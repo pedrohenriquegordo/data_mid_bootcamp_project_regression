{
 "cells": [
  {
   "cell_type": "markdown",
   "id": "43e6b49d",
   "metadata": {},
   "source": [
    "# <CENTER> USEFULL LIBRARIES"
   ]
  },
  {
   "cell_type": "code",
   "execution_count": 1,
   "id": "5e3c9782",
   "metadata": {},
   "outputs": [],
   "source": [
    "import pandas as pd\n",
    "import numpy as np\n",
    "import matplotlib.pyplot as plt\n",
    "import seaborn as sns\n",
    "pd.set_option('display.max_columns', None)\n",
    "import warnings\n",
    "warnings.filterwarnings('ignore')\n",
    "from sklearn.model_selection import train_test_split"
   ]
  },
  {
   "cell_type": "markdown",
   "id": "7e1285a9",
   "metadata": {},
   "source": [
    "# <CENTER> IMPORTING AREA"
   ]
  },
  {
   "cell_type": "code",
   "execution_count": null,
   "id": "c3bbf238",
   "metadata": {},
   "outputs": [],
   "source": []
  },
  {
   "cell_type": "markdown",
   "id": "7fac845a",
   "metadata": {},
   "source": [
    "# Coments ON: Import\n",
    "\n",
    "### The columns of the dataset gives us the following information:\n",
    "\n",
    "- Write here;\n",
    "- Write here;\n",
    "- Write here;\n",
    "- Write here.\n"
   ]
  },
  {
   "cell_type": "markdown",
   "id": "509d530e",
   "metadata": {},
   "source": [
    "# <CENTER> CLEANING AREA"
   ]
  },
  {
   "cell_type": "markdown",
   "id": "d7ad89ce",
   "metadata": {},
   "source": [
    "## Usefull info:"
   ]
  },
  {
   "cell_type": "code",
   "execution_count": null,
   "id": "dd2ab947",
   "metadata": {},
   "outputs": [],
   "source": []
  },
  {
   "cell_type": "markdown",
   "id": "ca77bf2b",
   "metadata": {},
   "source": [
    "## NaN's: Checking"
   ]
  },
  {
   "cell_type": "code",
   "execution_count": null,
   "id": "93534b79",
   "metadata": {},
   "outputs": [],
   "source": []
  },
  {
   "cell_type": "markdown",
   "id": "2da747ad",
   "metadata": {},
   "source": [
    "## NaN's: Dealing"
   ]
  },
  {
   "cell_type": "code",
   "execution_count": null,
   "id": "8f01debe",
   "metadata": {},
   "outputs": [],
   "source": []
  },
  {
   "cell_type": "markdown",
   "id": "1ef9bdf7",
   "metadata": {},
   "source": [
    "## NaN's: Re-Checking"
   ]
  },
  {
   "cell_type": "code",
   "execution_count": null,
   "id": "1bf4ba20",
   "metadata": {},
   "outputs": [],
   "source": []
  },
  {
   "cell_type": "markdown",
   "id": "e2fcd6f2",
   "metadata": {},
   "source": [
    "## Duplicated Values: Checking"
   ]
  },
  {
   "cell_type": "code",
   "execution_count": null,
   "id": "48f02b3f",
   "metadata": {},
   "outputs": [],
   "source": []
  },
  {
   "cell_type": "markdown",
   "id": "1401938e",
   "metadata": {},
   "source": [
    "## Duplicated Values: Dealing"
   ]
  },
  {
   "cell_type": "code",
   "execution_count": null,
   "id": "8c3d9349",
   "metadata": {},
   "outputs": [],
   "source": []
  },
  {
   "cell_type": "markdown",
   "id": "5dbf0686",
   "metadata": {},
   "source": [
    "## Duplicated Values:  Re-Checking"
   ]
  },
  {
   "cell_type": "code",
   "execution_count": null,
   "id": "9d60c066",
   "metadata": {},
   "outputs": [],
   "source": []
  },
  {
   "cell_type": "markdown",
   "id": "0183fc43",
   "metadata": {},
   "source": [
    "## Arrange Date Type:"
   ]
  },
  {
   "cell_type": "code",
   "execution_count": null,
   "id": "f95a0b1b",
   "metadata": {},
   "outputs": [],
   "source": []
  },
  {
   "cell_type": "markdown",
   "id": "c5a15e85",
   "metadata": {},
   "source": [
    "## Renaming Dataset:\n",
    "\n",
    "it's not raw anymore."
   ]
  },
  {
   "cell_type": "code",
   "execution_count": null,
   "id": "2ba30f26",
   "metadata": {},
   "outputs": [],
   "source": []
  },
  {
   "cell_type": "markdown",
   "id": "58abfc80",
   "metadata": {},
   "source": [
    "## Outliers: Checking"
   ]
  },
  {
   "cell_type": "code",
   "execution_count": null,
   "id": "1f0e73ab",
   "metadata": {},
   "outputs": [],
   "source": []
  },
  {
   "cell_type": "markdown",
   "id": "ced626c4",
   "metadata": {},
   "source": [
    "- We've identified a total of <b>___% of data</b> that is <b>considered outliers</b>.\n",
    "- <b>Outliers may be important</b> in identifying <b>trends or patterns</b> in the data that would be missed if they were removed.\n",
    "- Since this data is based on genuine observations, <b>we've decided to _____</b>."
   ]
  },
  {
   "cell_type": "markdown",
   "id": "54f01896",
   "metadata": {},
   "source": [
    "## Outliers: Dealing"
   ]
  },
  {
   "cell_type": "code",
   "execution_count": null,
   "id": "373ccc7a",
   "metadata": {},
   "outputs": [],
   "source": []
  },
  {
   "cell_type": "markdown",
   "id": "85927de9",
   "metadata": {},
   "source": [
    "## Outliers: Re-Checking"
   ]
  },
  {
   "cell_type": "code",
   "execution_count": null,
   "id": "56757353",
   "metadata": {},
   "outputs": [],
   "source": []
  },
  {
   "cell_type": "markdown",
   "id": "cff02cba",
   "metadata": {},
   "source": [
    "# Splitting Data\n",
    "\n",
    "### We'll now split our data into 3 different types os variables:\n",
    "\n",
    "### Continuous , Discreet and Categorical.\n",
    "\n",
    "## Continuous Variables:\n",
    "- Write here;\n",
    "- Write here;\n",
    "- Write here;\n",
    "- Write here.\n",
    "\n",
    "## Discreet Variables:\n",
    "- Write here;\n",
    "- Write here;\n",
    "- Write here;\n",
    "- Write here.\n",
    "\n",
    "## Categorical Variables:\n",
    "- Write here;\n",
    "- Write here;\n",
    "- Write here;\n",
    "- Write here."
   ]
  },
  {
   "cell_type": "markdown",
   "id": "049ff813",
   "metadata": {},
   "source": [
    "## Imbalance: Checking"
   ]
  },
  {
   "cell_type": "code",
   "execution_count": null,
   "id": "a0d97a2b",
   "metadata": {},
   "outputs": [],
   "source": []
  },
  {
   "cell_type": "markdown",
   "id": "0dfbde0e",
   "metadata": {},
   "source": [
    "## Imbalance: Dealing"
   ]
  },
  {
   "cell_type": "code",
   "execution_count": null,
   "id": "a4ca67a9",
   "metadata": {},
   "outputs": [],
   "source": []
  },
  {
   "cell_type": "markdown",
   "id": "a2228a20",
   "metadata": {},
   "source": [
    "## Imbalance: Re-Checking"
   ]
  },
  {
   "cell_type": "code",
   "execution_count": null,
   "id": "ec9e259a",
   "metadata": {},
   "outputs": [],
   "source": []
  },
  {
   "cell_type": "markdown",
   "id": "14960c46",
   "metadata": {},
   "source": [
    "# <center> SCALING AREA"
   ]
  },
  {
   "cell_type": "markdown",
   "id": "1745aaa1",
   "metadata": {},
   "source": [
    "## <center> Continuous Variables"
   ]
  },
  {
   "cell_type": "code",
   "execution_count": null,
   "id": "6dbbe6ad",
   "metadata": {},
   "outputs": [],
   "source": []
  },
  {
   "cell_type": "markdown",
   "id": "716a5801",
   "metadata": {},
   "source": [
    "## <center> Discreet Variables"
   ]
  },
  {
   "cell_type": "code",
   "execution_count": null,
   "id": "9b28dfb6",
   "metadata": {},
   "outputs": [],
   "source": []
  },
  {
   "cell_type": "markdown",
   "id": "95263926",
   "metadata": {},
   "source": [
    "## <center> Categorical Variables"
   ]
  },
  {
   "cell_type": "markdown",
   "id": "1cd790f0",
   "metadata": {},
   "source": [
    "# Coments ON: Cleaning\n",
    "\n",
    "- Write here;\n",
    "- Write here;\n",
    "- Write here;\n",
    "- Write here."
   ]
  },
  {
   "cell_type": "markdown",
   "id": "75017425",
   "metadata": {},
   "source": [
    "# <CENTER> EDA AREA"
   ]
  },
  {
   "cell_type": "markdown",
   "id": "32cb303b",
   "metadata": {},
   "source": [
    "## EDA: Univariate"
   ]
  },
  {
   "cell_type": "code",
   "execution_count": null,
   "id": "144f7f31",
   "metadata": {},
   "outputs": [],
   "source": []
  },
  {
   "cell_type": "markdown",
   "id": "8ec1980b",
   "metadata": {},
   "source": [
    "## EDA: Bivariate"
   ]
  },
  {
   "cell_type": "code",
   "execution_count": null,
   "id": "1a90d557",
   "metadata": {},
   "outputs": [],
   "source": []
  },
  {
   "cell_type": "markdown",
   "id": "f144c217",
   "metadata": {},
   "source": [
    "## EDA: Multivariate"
   ]
  },
  {
   "cell_type": "code",
   "execution_count": null,
   "id": "deb778da",
   "metadata": {},
   "outputs": [],
   "source": []
  },
  {
   "cell_type": "markdown",
   "id": "e4e2cc6c",
   "metadata": {},
   "source": [
    "## EDA: Visualization"
   ]
  },
  {
   "cell_type": "code",
   "execution_count": null,
   "id": "fed6eeed",
   "metadata": {},
   "outputs": [],
   "source": []
  },
  {
   "cell_type": "markdown",
   "id": "7456f93f",
   "metadata": {},
   "source": [
    "# Comments ON: EDA\n",
    "\n",
    "- Write here;\n",
    "- Write here;\n",
    "- Write here;\n",
    "- Write here."
   ]
  },
  {
   "cell_type": "markdown",
   "id": "74b041b2",
   "metadata": {},
   "source": [
    "# <CENTER> MODELING AREA"
   ]
  },
  {
   "cell_type": "markdown",
   "id": "bb6add1d",
   "metadata": {},
   "source": [
    "## Modeling: Evaluation Metric"
   ]
  },
  {
   "cell_type": "code",
   "execution_count": null,
   "id": "a24737cb",
   "metadata": {},
   "outputs": [],
   "source": []
  },
  {
   "cell_type": "markdown",
   "id": "5f01a73b",
   "metadata": {},
   "source": [
    "## Modeling: Set"
   ]
  },
  {
   "cell_type": "code",
   "execution_count": null,
   "id": "599ff7a9",
   "metadata": {},
   "outputs": [],
   "source": []
  },
  {
   "cell_type": "markdown",
   "id": "605488ac",
   "metadata": {},
   "source": [
    "## Modeling: Train"
   ]
  },
  {
   "cell_type": "code",
   "execution_count": null,
   "id": "e6dd3efd",
   "metadata": {},
   "outputs": [],
   "source": []
  },
  {
   "cell_type": "markdown",
   "id": "12f0757d",
   "metadata": {},
   "source": [
    "## Modeling: Compare"
   ]
  },
  {
   "cell_type": "code",
   "execution_count": null,
   "id": "505b3d28",
   "metadata": {},
   "outputs": [],
   "source": []
  },
  {
   "cell_type": "markdown",
   "id": "f691defb",
   "metadata": {},
   "source": [
    "## Modeling: Fine-tune"
   ]
  },
  {
   "cell_type": "code",
   "execution_count": null,
   "id": "6b1885c2",
   "metadata": {},
   "outputs": [],
   "source": []
  },
  {
   "cell_type": "markdown",
   "id": "ee9e34b9",
   "metadata": {},
   "source": [
    "## Modeling: Evaluate "
   ]
  },
  {
   "cell_type": "code",
   "execution_count": null,
   "id": "a8bda62a",
   "metadata": {},
   "outputs": [],
   "source": []
  },
  {
   "cell_type": "markdown",
   "id": "7459d9ca",
   "metadata": {},
   "source": [
    "## Modeling: Final"
   ]
  },
  {
   "cell_type": "code",
   "execution_count": null,
   "id": "a3cadf62",
   "metadata": {},
   "outputs": [],
   "source": []
  },
  {
   "cell_type": "markdown",
   "id": "2f0d21ba",
   "metadata": {},
   "source": [
    "# Comments ON: Modeling\n",
    "\n",
    "- Write here;\n",
    "- Write here;\n",
    "- Write here;\n",
    "- Write here."
   ]
  }
 ],
 "metadata": {
  "kernelspec": {
   "display_name": "Python 3 (ipykernel)",
   "language": "python",
   "name": "python3"
  },
  "language_info": {
   "codemirror_mode": {
    "name": "ipython",
    "version": 3
   },
   "file_extension": ".py",
   "mimetype": "text/x-python",
   "name": "python",
   "nbconvert_exporter": "python",
   "pygments_lexer": "ipython3",
   "version": "3.9.12"
  }
 },
 "nbformat": 4,
 "nbformat_minor": 5
}
